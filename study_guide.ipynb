{
 "cells": [
  {
   "cell_type": "markdown",
   "metadata": {},
   "source": [
    "# Import Libraries"
   ]
  },
  {
   "cell_type": "code",
   "execution_count": 1,
   "metadata": {},
   "outputs": [],
   "source": [
    "import pandas as pd\n",
    "import numpy as np\n",
    "from PIL import Image\n",
    "import pickle\n",
    "import requests\n",
    "from io import BytesIO\n",
    "\n",
    "from dataclasses import dataclass\n",
    "@dataclass(frozen=True)\n",
    "class Url:\n",
    "    \"\"\"Wrapper around a URL string to provide nice display in IPython environments.\"\"\"\n",
    "    # from: https://github.com/jupyterlab/jupyterlab/issues/7393\n",
    "\n",
    "    __url: str\n",
    "\n",
    "    def _repr_html_(self):\n",
    "        \"\"\"HTML link to this URL.\"\"\"\n",
    "        return f'<a href=\"{self.__url}\">{self.__url}</a>'\n",
    "\n",
    "    def __str__(self):\n",
    "        \"\"\"Return the underlying string.\"\"\"\n",
    "        return self.__url"
   ]
  },
  {
   "cell_type": "markdown",
   "metadata": {},
   "source": [
    "# Initialize"
   ]
  },
  {
   "cell_type": "code",
   "execution_count": 2,
   "metadata": {},
   "outputs": [],
   "source": [
    "def load_cards(path='./cards.pkl'):\n",
    "\n",
    "    with open(path, 'rb') as f:\n",
    "        return pickle.load(f)\n",
    "        \n",
    "study_questions = load_cards()\n",
    "question_log = [0]"
   ]
  },
  {
   "cell_type": "code",
   "execution_count": 3,
   "metadata": {},
   "outputs": [],
   "source": [
    "def new_question(topic, question, answers, images, videos=[]):\n",
    "    \"\"\"Question and answers for new flash card\n",
    "    topic: text containing the topic\n",
    "    question: text contianing the question\n",
    "    answers: list containing answers to question\n",
    "    images: list containing n number of image paths pertaining to question\n",
    "    videos: list containing n number of links to web videos for question\"\"\"\n",
    "    global study_questions\n",
    "    \n",
    "    get_qid = 1\n",
    "    if topic in study_questions.keys():\n",
    "        get_qid = len(study_questions[topic].keys()) + 1\n",
    "    else:\n",
    "        study_questions[topic] = {}\n",
    "\n",
    "    answer = {\n",
    "        'text': answers,\n",
    "        'img': images,\n",
    "        'video': videos\n",
    "    }\n",
    "    study_questions[topic][get_qid] = {'question': question,\n",
    "                                        'answer': answer}\n"
   ]
  },
  {
   "cell_type": "code",
   "execution_count": 4,
   "metadata": {},
   "outputs": [],
   "source": [
    "def save_cards(cards=study_questions, path='./cards.pkl'):\n",
    "    \n",
    "    with open(path, 'wb') as f:\n",
    "        pickle.dump(study_questions, f)"
   ]
  },
  {
   "cell_type": "code",
   "execution_count": 5,
   "metadata": {},
   "outputs": [],
   "source": [
    "def view_flashcard(q_id=0, topic='data_science'):\n",
    "    \"\"\"Select a flash card by id number. If q_id is 0, a random question will be displayed\"\"\"\n",
    "\n",
    "    global question_log\n",
    "    rng = 1\n",
    "\n",
    "    if q_id != 0:\n",
    "        try:\n",
    "            # print question\n",
    "            print(study_questions[topic][q_id]['question'])\n",
    "            # update question log\n",
    "            question_log.append(q_id)\n",
    "        except:\n",
    "            max_id = (len(study_questions[topic].keys()) + 1)\n",
    "            print(f'Invalid question ID. Try a number between 1-{max_id}')\n",
    "\n",
    "    else:\n",
    "        # get random question id\n",
    "        rng = np.random.choice(\n",
    "                range(\n",
    "                    1, (len(study_questions[topic].keys()) + 1) \n",
    "                    )\n",
    "                )\n",
    "        q_id = rng\n",
    "        \n",
    "        # update question log\n",
    "        question_log.append(q_id)\n",
    "        \n",
    "        # print question\n",
    "        print(study_questions[topic][q_id]['question'])"
   ]
  },
  {
   "cell_type": "code",
   "execution_count": 6,
   "metadata": {},
   "outputs": [],
   "source": [
    "def view_answer(q_id=0, topic='data_science'):\n",
    "    if q_id == 0:\n",
    "        q_id = question_log[-1]\n",
    "    text_answers = study_questions[topic][q_id]['answer']['text']\n",
    "    for answer in text_answers:\n",
    "        print(answer)\n",
    "    \n",
    "    image_answers = study_questions[topic][q_id]['answer']['img']\n",
    "    if len(image_answers) > 0:\n",
    "        for image in image_answers:\n",
    "            response = requests.get(image)\n",
    "            im = Image.open(BytesIO(response.content))\n",
    "            display(im) \n",
    "    \n",
    "    video_answers = study_questions[topic][q_id]['answer']['video']\n",
    "    if len(video_answers) > 0:\n",
    "        for video in video_answers:\n",
    "            display(Url(video))    "
   ]
  },
  {
   "cell_type": "code",
   "execution_count": 7,
   "metadata": {},
   "outputs": [],
   "source": [
    "def reset_log():\n",
    "    global question_log\n",
    "    question_log = [0]\n",
    "    print('Question log reset.')"
   ]
  },
  {
   "cell_type": "markdown",
   "metadata": {},
   "source": [
    "# Make New Flashcard"
   ]
  },
  {
   "cell_type": "code",
   "execution_count": null,
   "metadata": {},
   "outputs": [],
   "source": [
    "topic = 'data_science'\n",
    "question = \"What is entropy and how is it calculated\"\n",
    "answers = [\"In information theory, the entropy of a random variable is the average level of 'information', 'surprise', or 'uncertainty' inherent to the variable's possible outcomes.\",\n",
    "           \"[0, 0, 0, 1, 1, 1, 1, 1]\",\n",
    "           \"Putting p=5 and n=8, we get\",\n",
    "           \"Entropy = -(5/8 log(5/8) + 3/8 log(3/8))\"]\n",
    "images = []\n",
    "videos = [\"https://www.youtube.com/watch?v=YtebGVx-Fxw\"\n",
    "          ]"
   ]
  },
  {
   "cell_type": "code",
   "execution_count": null,
   "metadata": {},
   "outputs": [],
   "source": [
    "new_question(topic, question, answers, images, videos)"
   ]
  },
  {
   "cell_type": "code",
   "execution_count": null,
   "metadata": {},
   "outputs": [],
   "source": [
    "save_cards(study_questions)"
   ]
  },
  {
   "cell_type": "markdown",
   "metadata": {},
   "source": [
    "# Flashcard Tools"
   ]
  },
  {
   "cell_type": "code",
   "execution_count": 8,
   "metadata": {},
   "outputs": [
    {
     "name": "stdout",
     "output_type": "stream",
     "text": [
      "Question log reset.\n"
     ]
    }
   ],
   "source": [
    "reset_log()"
   ]
  },
  {
   "cell_type": "code",
   "execution_count": 9,
   "metadata": {},
   "outputs": [
    {
     "name": "stdout",
     "output_type": "stream",
     "text": [
      "You are given a data set consisting of variables with more than 30 percent missing values. How will you deal with them?\n"
     ]
    }
   ],
   "source": [
    "view_flashcard(7)"
   ]
  },
  {
   "cell_type": "code",
   "execution_count": 10,
   "metadata": {},
   "outputs": [
    {
     "data": {
      "text/plain": [
       "[0, 7]"
      ]
     },
     "execution_count": 10,
     "metadata": {},
     "output_type": "execute_result"
    }
   ],
   "source": [
    "question_log"
   ]
  },
  {
   "cell_type": "code",
   "execution_count": 11,
   "metadata": {},
   "outputs": [
    {
     "name": "stdout",
     "output_type": "stream",
     "text": [
      "What are recommender systems?\n"
     ]
    }
   ],
   "source": [
    "view_flashcard()"
   ]
  },
  {
   "cell_type": "code",
   "execution_count": 12,
   "metadata": {},
   "outputs": [
    {
     "name": "stdout",
     "output_type": "stream",
     "text": [
      "A recommender system predicts what a user would rate a specific product based on their preferences. It can be split into two different areas:\n",
      "Collaborative Filtering: ex: Last.fm recommends tracks that other users with similar interests play often. This is also commonly seen on Amazon after making a purchase; customers may notice the following message accompanied by product recommendations: 'Users who bought this also bought…'\n",
      "Content-based Filtering: ex: Pandora uses the properties of a song to recommend music with similar properties. Here, we look at content, instead of looking at who else is listening to music.\n"
     ]
    },
    {
     "data": {
      "text/html": [
       "<a href=\"https://www.youtube.com/watch?v=U-yq3I9QugQ\">https://www.youtube.com/watch?v=U-yq3I9QugQ</a>"
      ],
      "text/plain": [
       "Url(_Url__url='https://www.youtube.com/watch?v=U-yq3I9QugQ')"
      ]
     },
     "metadata": {},
     "output_type": "display_data"
    }
   ],
   "source": [
    "view_answer()"
   ]
  },
  {
   "cell_type": "markdown",
   "metadata": {},
   "source": [
    "# Export New Cards"
   ]
  },
  {
   "cell_type": "code",
   "execution_count": null,
   "metadata": {},
   "outputs": [],
   "source": [
    "save_cards(study_questions)"
   ]
  },
  {
   "cell_type": "code",
   "execution_count": null,
   "metadata": {},
   "outputs": [],
   "source": []
  }
 ],
 "metadata": {
  "interpreter": {
   "hash": "b487aba7dbb06bcfdbee35bee7e71057c720ec08c6788f62ddab30e7b6429859"
  },
  "kernelspec": {
   "display_name": "Python 3.10.0 ('capstone')",
   "language": "python",
   "name": "python3"
  },
  "language_info": {
   "codemirror_mode": {
    "name": "ipython",
    "version": 3
   },
   "file_extension": ".py",
   "mimetype": "text/x-python",
   "name": "python",
   "nbconvert_exporter": "python",
   "pygments_lexer": "ipython3",
   "version": "3.10.0"
  },
  "orig_nbformat": 4
 },
 "nbformat": 4,
 "nbformat_minor": 2
}
